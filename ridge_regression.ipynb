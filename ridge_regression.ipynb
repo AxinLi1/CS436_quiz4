{
  "nbformat": 4,
  "nbformat_minor": 0,
  "metadata": {
    "colab": {
      "provenance": [],
      "authorship_tag": "ABX9TyOkD7Va2hbalBoZDEg8caxK",
      "include_colab_link": true
    },
    "kernelspec": {
      "name": "python3",
      "display_name": "Python 3"
    },
    "language_info": {
      "name": "python"
    }
  },
  "cells": [
    {
      "cell_type": "markdown",
      "metadata": {
        "id": "view-in-github",
        "colab_type": "text"
      },
      "source": [
        "<a href=\"https://colab.research.google.com/github/AxinLi1/CS436_quiz4/blob/main/ridge_regression.ipynb\" target=\"_parent\"><img src=\"https://colab.research.google.com/assets/colab-badge.svg\" alt=\"Open In Colab\"/></a>"
      ]
    },
    {
      "cell_type": "code",
      "execution_count": 1,
      "metadata": {
        "id": "7HFYhfi9eE2_"
      },
      "outputs": [],
      "source": [
        "import numpy as np\n",
        "from sklearn.datasets import make_classification\n",
        "from sklearn.model_selection import train_test_split\n",
        "from sklearn.linear_model import LogisticRegression\n",
        "from sklearn.metrics import accuracy_score\n",
        "from sklearn.preprocessing import StandardScaler"
      ]
    },
    {
      "cell_type": "code",
      "source": [
        "X, y = make_classification(\n",
        "    n_samples=1000,\n",
        "    n_features=100,\n",
        "    n_informative=10,\n",
        "    n_redundant=5,\n",
        "    random_state=42\n",
        ")\n",
        "\n",
        "X_train, X_test, y_train, y_test = train_test_split(X, y, test_size=0.3, random_state=42)\n",
        "\n",
        "scaler = StandardScaler()\n",
        "X_train_scaled = scaler.fit_transform(X_train)\n",
        "X_test_scaled = scaler.transform(X_test)\n",
        "\n",
        "# ---- Model WITHOUT regularization (prone to overfitting) ----\n",
        "vanilla_model = LogisticRegression(penalty=None, max_iter=1000, random_state=42)\n",
        "vanilla_model.fit(X_train_scaled, y_train)\n",
        "\n",
        "# ---- Model WITH L2 regularization (counteracts overfitting) ----\n",
        "'''\n",
        "  Ridge Regression Model\n",
        "Rdige regression counteracts overfitting by penalizing overly complex models,\n",
        "forcing the algorithm to prefer smaller, more generalized weights. So, the\n",
        "regularized model sacrifices some training accuracy for higher test accuracy,\n",
        "while the unregularized model achieves high training accuracy, but performs\n",
        "poorly in test accuracy. Hence, by constraining the weights, the model avoids\n",
        "overcomplicating itself to fit noise.\n",
        "'''\n",
        "ridge_model = LogisticRegression(\n",
        "    penalty='l2',\n",
        "    C=0.1,\n",
        "    max_iter=1000,\n",
        "    random_state=42\n",
        ")\n",
        "ridge_model.fit(X_train_scaled, y_train)\n",
        "\n",
        "def evaluate_model(model, X_train, X_test, y_train, y_test):\n",
        "    train_pred = model.predict(X_train)\n",
        "    test_pred = model.predict(X_test)\n",
        "    return {\n",
        "        'Train Accuracy': accuracy_score(y_train, train_pred),\n",
        "        'Test Accuracy': accuracy_score(y_test, test_pred)\n",
        "    }\n",
        "\n",
        "vanilla_results = evaluate_model(vanilla_model, X_train_scaled, X_test_scaled, y_train, y_test)\n",
        "ridge_results = evaluate_model(ridge_model, X_train_scaled, X_test_scaled, y_train, y_test)\n",
        "\n",
        "print(\"Vanilla Model (No Regularization):\", vanilla_results)\n",
        "print(\"Ridge Model (L2 Regularization):\", ridge_results)"
      ],
      "metadata": {
        "colab": {
          "base_uri": "https://localhost:8080/"
        },
        "id": "BhvRarLqecjJ",
        "outputId": "483cc15e-c0e3-4ddb-edd9-555035de7ace"
      },
      "execution_count": 4,
      "outputs": [
        {
          "output_type": "stream",
          "name": "stdout",
          "text": [
            "Vanilla Model (No Regularization): {'Train Accuracy': 0.8885714285714286, 'Test Accuracy': 0.8233333333333334}\n",
            "Ridge Model (L2 Regularization): {'Train Accuracy': 0.8771428571428571, 'Test Accuracy': 0.8333333333333334}\n"
          ]
        }
      ]
    }
  ]
}