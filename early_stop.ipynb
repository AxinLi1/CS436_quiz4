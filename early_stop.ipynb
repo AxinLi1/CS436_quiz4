{
  "nbformat": 4,
  "nbformat_minor": 0,
  "metadata": {
    "colab": {
      "provenance": [],
      "authorship_tag": "ABX9TyOWQEx+4WBCKergl998/fJ2",
      "include_colab_link": true
    },
    "kernelspec": {
      "name": "python3",
      "display_name": "Python 3"
    },
    "language_info": {
      "name": "python"
    }
  },
  "cells": [
    {
      "cell_type": "markdown",
      "metadata": {
        "id": "view-in-github",
        "colab_type": "text"
      },
      "source": [
        "<a href=\"https://colab.research.google.com/github/AxinLi1/CS436_quiz4/blob/main/early_stop.ipynb\" target=\"_parent\"><img src=\"https://colab.research.google.com/assets/colab-badge.svg\" alt=\"Open In Colab\"/></a>"
      ]
    },
    {
      "cell_type": "code",
      "execution_count": 1,
      "metadata": {
        "id": "51bG21KvPqm9"
      },
      "outputs": [],
      "source": [
        "import numpy as np\n",
        "import tensorflow as tf\n",
        "from tensorflow.keras.models import Sequential\n",
        "from tensorflow.keras.layers import Dense\n",
        "from tensorflow.keras.optimizers import Adam\n",
        "from tensorflow.keras.datasets import mnist"
      ]
    },
    {
      "cell_type": "code",
      "source": [
        "# Load the MNIST dataset\n",
        "(x_train, y_train), (x_val, y_val) = mnist.load_data()\n",
        "\n",
        "x_train = x_train.reshape((x_train.shape[0], -1)) / 255.0\n",
        "x_val = x_val.reshape((x_val.shape[0], -1)) / 255.0\n",
        "\n",
        "y_train = tf.keras.utils.to_categorical(y_train, 10)\n",
        "y_val = tf.keras.utils.to_categorical(y_val, 10)\n",
        "\n",
        "model = Sequential([\n",
        "    Dense(128, activation='relu', input_shape=(x_train.shape[1],)),\n",
        "    Dense(64, activation='relu'),\n",
        "    Dense(10, activation='softmax')\n",
        "])\n",
        "\n",
        "model.compile(optimizer=Adam(), loss='categorical_crossentropy', metrics=['accuracy'])\n",
        "\n",
        "'''\n",
        "  Early Stopping Implementation\n",
        "Early stopping pervents overfitting during the training of machine omdels by\n",
        "stopping when the model stops improving. If the validation loss fails to improve\n",
        "over a specific number of epochs (5), then the training is stopped.\n",
        "This prevents the model from continuing learning from the noise in the training\n",
        "data. This saves computatitional resources and help ensures that the model generalizes\n",
        "better to unseen data.\n",
        "'''\n",
        "\n",
        "patience = 5  # How many epochs to wait before stopping\n",
        "best_val_loss = float('inf')\n",
        "epochs_without_improvement = 0\n",
        "\n",
        "max_epochs = 100\n",
        "for epoch in range(max_epochs):\n",
        "    model.fit(x_train, y_train, batch_size=32, epochs=1, verbose=0)\n",
        "\n",
        "    val_loss, val_accuracy = model.evaluate(x_val, y_val, verbose=0)\n",
        "    print(f\"Epoch {epoch+1}: Validation Loss = {val_loss}, Validation Accuracy = {val_accuracy}\")\n",
        "\n",
        "    if val_loss < best_val_loss:\n",
        "        best_val_loss = val_loss\n",
        "        epochs_without_improvement = 0\n",
        "    else:\n",
        "        epochs_without_improvement += 1\n",
        "\n",
        "    if epochs_without_improvement >= patience:\n",
        "        print(\"Early stopping triggered!\")\n",
        "        break\n",
        "\n",
        "final_loss, final_accuracy = model.evaluate(x_val, y_val)\n",
        "print(f\"Final validation accuracy: {final_accuracy}\")"
      ],
      "metadata": {
        "colab": {
          "base_uri": "https://localhost:8080/"
        },
        "id": "3lE4Dc44PtgG",
        "outputId": "b4b8b483-603a-4779-cdc9-3e496ecfc702"
      },
      "execution_count": 2,
      "outputs": [
        {
          "output_type": "stream",
          "name": "stdout",
          "text": [
            "Downloading data from https://storage.googleapis.com/tensorflow/tf-keras-datasets/mnist.npz\n",
            "\u001b[1m11490434/11490434\u001b[0m \u001b[32m━━━━━━━━━━━━━━━━━━━━\u001b[0m\u001b[37m\u001b[0m \u001b[1m0s\u001b[0m 0us/step\n"
          ]
        },
        {
          "output_type": "stream",
          "name": "stderr",
          "text": [
            "/usr/local/lib/python3.11/dist-packages/keras/src/layers/core/dense.py:87: UserWarning: Do not pass an `input_shape`/`input_dim` argument to a layer. When using Sequential models, prefer using an `Input(shape)` object as the first layer in the model instead.\n",
            "  super().__init__(activity_regularizer=activity_regularizer, **kwargs)\n"
          ]
        },
        {
          "output_type": "stream",
          "name": "stdout",
          "text": [
            "Epoch 1: Validation Loss = 0.11584243178367615, Validation Accuracy = 0.9656000137329102\n",
            "Epoch 2: Validation Loss = 0.08798765391111374, Validation Accuracy = 0.9713000059127808\n",
            "Epoch 3: Validation Loss = 0.07714589685201645, Validation Accuracy = 0.9750000238418579\n",
            "Epoch 4: Validation Loss = 0.09113817662000656, Validation Accuracy = 0.9728999733924866\n",
            "Epoch 5: Validation Loss = 0.07659478485584259, Validation Accuracy = 0.9771999716758728\n",
            "Epoch 6: Validation Loss = 0.07312313467264175, Validation Accuracy = 0.9779999852180481\n",
            "Epoch 7: Validation Loss = 0.08488316088914871, Validation Accuracy = 0.9760000109672546\n",
            "Epoch 8: Validation Loss = 0.07805923372507095, Validation Accuracy = 0.9790999889373779\n",
            "Epoch 9: Validation Loss = 0.07891424000263214, Validation Accuracy = 0.9797000288963318\n",
            "Epoch 10: Validation Loss = 0.11099742352962494, Validation Accuracy = 0.9711999893188477\n",
            "Epoch 11: Validation Loss = 0.13522830605506897, Validation Accuracy = 0.9703999757766724\n",
            "Early stopping triggered!\n",
            "\u001b[1m313/313\u001b[0m \u001b[32m━━━━━━━━━━━━━━━━━━━━\u001b[0m\u001b[37m\u001b[0m \u001b[1m1s\u001b[0m 2ms/step - accuracy: 0.9669 - loss: 0.1440\n",
            "Final validation accuracy: 0.9703999757766724\n"
          ]
        }
      ]
    }
  ]
}